{
  "nbformat": 4,
  "nbformat_minor": 0,
  "metadata": {
    "colab": {
      "name": "DesafioAlgoritmo.ipynb",
      "provenance": [],
      "include_colab_link": true
    },
    "kernelspec": {
      "name": "python3",
      "display_name": "Python 3"
    },
    "language_info": {
      "name": "python"
    }
  },
  "cells": [
    {
      "cell_type": "markdown",
      "metadata": {
        "id": "view-in-github",
        "colab_type": "text"
      },
      "source": [
        "<a href=\"https://colab.research.google.com/github/VCTR07/analiseAlgoritmoIesb/blob/master/DesafioAlgoritmo.ipynb\" target=\"_parent\"><img src=\"https://colab.research.google.com/assets/colab-badge.svg\" alt=\"Open In Colab\"/></a>"
      ]
    },
    {
      "cell_type": "code",
      "metadata": {
        "id": "UTaiQZlorK9q"
      },
      "source": [
        "import time\n",
        "import random"
      ],
      "execution_count": 39,
      "outputs": []
    },
    {
      "cell_type": "markdown",
      "metadata": {
        "id": "a3KT5lnL0c0s"
      },
      "source": [
        "#CRIANDO LISTA RANDOMICA\n"
      ]
    },
    {
      "cell_type": "code",
      "metadata": {
        "id": "Fh7ZZt4G0p5s",
        "colab": {
          "base_uri": "https://localhost:8080/"
        },
        "outputId": "452ed898-943c-430e-a61d-9d27e5024e7c"
      },
      "source": [
        "random.seed(9001)\n",
        "A = random.sample(range(1, 10001), 10000)\n",
        "random.shuffle(A)\n",
        "print(A[:10])"
      ],
      "execution_count": 40,
      "outputs": [
        {
          "output_type": "stream",
          "name": "stdout",
          "text": [
            "[2188, 769, 9718, 8450, 6939, 6700, 2411, 599, 5660, 9135]\n"
          ]
        }
      ]
    },
    {
      "cell_type": "markdown",
      "metadata": {
        "id": "6JzT_b7Q0ufO"
      },
      "source": [
        "# FUNÇÃO MERGE SORT"
      ]
    },
    {
      "cell_type": "code",
      "metadata": {
        "id": "JF8zcCqgrhgh"
      },
      "source": [
        "def mergeSort(A):\n",
        "  if len(A) > 1:\n",
        "    meio=len(A)//2\n",
        "    E = A[:meio]\n",
        "    D = A[meio:]\n",
        "\n",
        "    mergeSort(E)\n",
        "    mergeSort(D)\n",
        "\n",
        "    i=j=k=0\n",
        "\n",
        "    while i < len(E) and j < len(D):\n",
        "      if E[i] < D[j]:\n",
        "        A[k] = E[i]\n",
        "        i+=1\n",
        "      else:\n",
        "        A[k] = D[j]\n",
        "        j+=1\n",
        "      k+=1\n",
        "\n",
        "    while i < len(E):\n",
        "      A[k] = E[i]\n",
        "      i+=1\n",
        "      k+=1\n",
        "\n",
        "    while j < len(D):\n",
        "      A[k]=D[j]\n",
        "      j+=1\n",
        "      k+=1\n",
        "\n",
        "  return A"
      ],
      "execution_count": 41,
      "outputs": []
    },
    {
      "cell_type": "code",
      "metadata": {
        "id": "RkYYd29SrlC6"
      },
      "source": [
        "iniciaTempo = time.time_ns()\n",
        "mergeSort(A)\n",
        "terminaTempo = time.time_ns()\n",
        "tempoTotal = terminaTempo - iniciaTempo"
      ],
      "execution_count": 42,
      "outputs": []
    },
    {
      "cell_type": "code",
      "metadata": {
        "colab": {
          "base_uri": "https://localhost:8080/"
        },
        "id": "TO2EL-vXrlRk",
        "outputId": "27815596-540c-4970-afcb-94aecfb1ed48"
      },
      "source": [
        "print(A[0:10])\n",
        "print(tempoTotal)"
      ],
      "execution_count": 43,
      "outputs": [
        {
          "output_type": "stream",
          "name": "stdout",
          "text": [
            "[1, 2, 3, 4, 5, 6, 7, 8, 9, 10]\n",
            "76403341\n"
          ]
        }
      ]
    },
    {
      "cell_type": "markdown",
      "metadata": {
        "id": "MkIU6zwcX52_"
      },
      "source": [
        "#CRIANDO LISTA RANDOMICA"
      ]
    },
    {
      "cell_type": "code",
      "metadata": {
        "colab": {
          "base_uri": "https://localhost:8080/"
        },
        "id": "qEyl82YbVPCG",
        "outputId": "b24cd5f3-9931-4631-8516-2744a7484849"
      },
      "source": [
        "random.seed(9001)\n",
        "A = random.sample(range(1, 10001), 10000)\n",
        "random.shuffle(A)\n",
        "print(A[:10])"
      ],
      "execution_count": 44,
      "outputs": [
        {
          "output_type": "stream",
          "name": "stdout",
          "text": [
            "[2188, 769, 9718, 8450, 6939, 6700, 2411, 599, 5660, 9135]\n"
          ]
        }
      ]
    },
    {
      "cell_type": "markdown",
      "metadata": {
        "id": "ZAx1Fw2d1CWC"
      },
      "source": [
        "#FUNÇÃO QUICKSORT "
      ]
    },
    {
      "cell_type": "code",
      "metadata": {
        "id": "w86nRCi71eT4"
      },
      "source": [
        "def particao(inicio, final, A):\n",
        "  indice_pivo = inicio\n",
        "  pivo = A[indice_pivo]\n",
        "\n",
        "  while inicio < final:\n",
        "    while inicio < len(A) and A[inicio] <= pivo:\n",
        "      inicio+=1\n",
        "    \n",
        "    while A[final] > pivo:\n",
        "      final -=1\n",
        "\n",
        "    if(inicio < final):\n",
        "      A[inicio], A[final] = A[final], A[inicio]\n",
        "\n",
        "  A[final], A[indice_pivo] = A[indice_pivo], A[final]\n",
        "  return final\n",
        "\n",
        "def quick_sort(inicio, final, A):\n",
        "\n",
        "  if (inicio < final):\n",
        "    p = particao(inicio, final, A)\n",
        "    quick_sort(inicio, p-1, A)\n",
        "    quick_sort(p+1, final, A)"
      ],
      "execution_count": 45,
      "outputs": []
    },
    {
      "cell_type": "code",
      "metadata": {
        "id": "_LKq19zZ6Q1T"
      },
      "source": [
        "iniciaTempo = time.time_ns()\n",
        "quick_sort(0, len(A)-1, A)\n",
        "terminaTempo = time.time_ns()\n",
        "tempoTotal = terminaTempo - iniciaTempo"
      ],
      "execution_count": 46,
      "outputs": []
    },
    {
      "cell_type": "code",
      "metadata": {
        "colab": {
          "base_uri": "https://localhost:8080/"
        },
        "id": "EGD3ZkAW6V6M",
        "outputId": "e7a5a297-ac72-40c8-e946-17a9b50c4810"
      },
      "source": [
        "print(A[0:10])\n",
        "print(tempoTotal)"
      ],
      "execution_count": 47,
      "outputs": [
        {
          "output_type": "stream",
          "name": "stdout",
          "text": [
            "[1, 2, 3, 4, 5, 6, 7, 8, 9, 10]\n",
            "52191617\n"
          ]
        }
      ]
    },
    {
      "cell_type": "markdown",
      "metadata": {
        "id": "ndMiPnF7YJR3"
      },
      "source": [
        "#CRIANDO LISTA RANDOMICA"
      ]
    },
    {
      "cell_type": "code",
      "metadata": {
        "id": "GragLT1u8vI3",
        "colab": {
          "base_uri": "https://localhost:8080/"
        },
        "outputId": "eb1bf184-f634-4fed-b365-7967f1a9c32d"
      },
      "source": [
        "random.seed(9001)\n",
        "A = random.sample(range(1, 10001), 10000)\n",
        "random.shuffle(A)\n",
        "print(A[:10])"
      ],
      "execution_count": 48,
      "outputs": [
        {
          "output_type": "stream",
          "name": "stdout",
          "text": [
            "[2188, 769, 9718, 8450, 6939, 6700, 2411, 599, 5660, 9135]\n"
          ]
        }
      ]
    },
    {
      "cell_type": "markdown",
      "metadata": {
        "id": "o6U2-yzD6r7Q"
      },
      "source": [
        "#ORDENAÇÃO NO PANDAS/NUMPY"
      ]
    },
    {
      "cell_type": "code",
      "metadata": {
        "id": "gC6if2066y3y"
      },
      "source": [
        "import pandas as pd\n",
        "import numpy as np"
      ],
      "execution_count": 49,
      "outputs": []
    },
    {
      "cell_type": "code",
      "metadata": {
        "id": "4eE786AS64qe"
      },
      "source": [
        "iniciaTempo = time.time_ns()\n",
        "A.sort()\n",
        "terminaTempo = time.time_ns()\n",
        "tempoTotal = terminaTempo - iniciaTempo"
      ],
      "execution_count": 50,
      "outputs": []
    },
    {
      "cell_type": "code",
      "metadata": {
        "colab": {
          "base_uri": "https://localhost:8080/"
        },
        "id": "3VoPAwQa7uHs",
        "outputId": "9974d574-4db1-418e-d03f-b17d1a273391"
      },
      "source": [
        "print(A[0:10])\n",
        "print(tempoTotal)"
      ],
      "execution_count": 51,
      "outputs": [
        {
          "output_type": "stream",
          "name": "stdout",
          "text": [
            "[1, 2, 3, 4, 5, 6, 7, 8, 9, 10]\n",
            "2345529\n"
          ]
        }
      ]
    }
  ]
}